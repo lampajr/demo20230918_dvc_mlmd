{
 "cells": [
  {
   "cell_type": "markdown",
   "id": "28ec47c9-88ea-4ed0-92cf-11d14e560343",
   "metadata": {},
   "source": [
    "## Generic Imports"
   ]
  },
  {
   "cell_type": "code",
   "execution_count": 1,
   "id": "1520269b-6fdb-4a27-a555-403b5dfd8aef",
   "metadata": {},
   "outputs": [],
   "source": [
    "import os\n",
    "from pprint import pprint"
   ]
  },
  {
   "cell_type": "markdown",
   "id": "8922468e-bc27-4b9d-8b36-0ee68529224d",
   "metadata": {},
   "source": [
    "## Setup ML Metadata"
   ]
  },
  {
   "cell_type": "code",
   "execution_count": 2,
   "id": "e6d37214-56e9-4182-bee0-ae52498880c7",
   "metadata": {},
   "outputs": [],
   "source": [
    "import ml_metadata as mlmd\n",
    "from ml_metadata.metadata_store import metadata_store\n",
    "from ml_metadata.proto import metadata_store_pb2"
   ]
  },
  {
   "cell_type": "code",
   "execution_count": 3,
   "id": "04d29104-fc21-48a0-80df-262e27a6da80",
   "metadata": {},
   "outputs": [
    {
     "name": "stdout",
     "output_type": "stream",
     "text": [
      "artifact_type_id was not found in DB, creating...\n",
      "Using 10 for storing artifacts\n"
     ]
    }
   ],
   "source": [
    "connection_config = metadata_store_pb2.ConnectionConfig()\n",
    "connection_config.sqlite.filename_uri = os.path.join(os.getcwd(), \"mlmddb\")\n",
    "connection_config.sqlite.connection_mode = 3\n",
    "store = metadata_store.MetadataStore(connection_config)\n",
    "\n",
    "try: \n",
    "    artifact_type_id = store.get_artifact_type(\"dvc.Model\").id\n",
    "    print(\"artifact_type_id was found in DB\")\n",
    "except metadata_store.errors.NotFoundError:\n",
    "    print(\"artifact_type_id was not found in DB, creating...\")\n",
    "    new_type = metadata_store_pb2.ArtifactType()\n",
    "    new_type.name = \"dvc.Model\"\n",
    "    artifact_type_id = store.put_artifact_type(new_type)\n",
    "\n",
    "print(f\"Using {artifact_type_id} for storing artifacts\")"
   ]
  },
  {
   "cell_type": "markdown",
   "id": "91acb18a-357a-4a47-9334-278a49def6c3",
   "metadata": {},
   "source": [
    "## Load DVC Model"
   ]
  },
  {
   "cell_type": "code",
   "execution_count": 4,
   "id": "fa33ef1d-b859-4f11-af2d-535f3047e480",
   "metadata": {},
   "outputs": [],
   "source": [
    "import dvc.api\n",
    "import pickle"
   ]
  },
  {
   "cell_type": "code",
   "execution_count": 5,
   "id": "2188a3c3-14e3-455a-9585-658aab7389a3",
   "metadata": {},
   "outputs": [],
   "source": [
    "modelpkl = dvc.api.read(\n",
    "    'model.pkl',\n",
    "    repo='https://github.com/iterative/example-get-started',\n",
    "    mode='rb',\n",
    "    rev='text-classification@v1.2.0'\n",
    ")"
   ]
  },
  {
   "cell_type": "code",
   "execution_count": 6,
   "id": "36e10098-6d6f-4a4b-ae71-82095a6059c2",
   "metadata": {},
   "outputs": [
    {
     "data": {
      "text/html": [
       "<style>#sk-container-id-1 {color: black;}#sk-container-id-1 pre{padding: 0;}#sk-container-id-1 div.sk-toggleable {background-color: white;}#sk-container-id-1 label.sk-toggleable__label {cursor: pointer;display: block;width: 100%;margin-bottom: 0;padding: 0.3em;box-sizing: border-box;text-align: center;}#sk-container-id-1 label.sk-toggleable__label-arrow:before {content: \"▸\";float: left;margin-right: 0.25em;color: #696969;}#sk-container-id-1 label.sk-toggleable__label-arrow:hover:before {color: black;}#sk-container-id-1 div.sk-estimator:hover label.sk-toggleable__label-arrow:before {color: black;}#sk-container-id-1 div.sk-toggleable__content {max-height: 0;max-width: 0;overflow: hidden;text-align: left;background-color: #f0f8ff;}#sk-container-id-1 div.sk-toggleable__content pre {margin: 0.2em;color: black;border-radius: 0.25em;background-color: #f0f8ff;}#sk-container-id-1 input.sk-toggleable__control:checked~div.sk-toggleable__content {max-height: 200px;max-width: 100%;overflow: auto;}#sk-container-id-1 input.sk-toggleable__control:checked~label.sk-toggleable__label-arrow:before {content: \"▾\";}#sk-container-id-1 div.sk-estimator input.sk-toggleable__control:checked~label.sk-toggleable__label {background-color: #d4ebff;}#sk-container-id-1 div.sk-label input.sk-toggleable__control:checked~label.sk-toggleable__label {background-color: #d4ebff;}#sk-container-id-1 input.sk-hidden--visually {border: 0;clip: rect(1px 1px 1px 1px);clip: rect(1px, 1px, 1px, 1px);height: 1px;margin: -1px;overflow: hidden;padding: 0;position: absolute;width: 1px;}#sk-container-id-1 div.sk-estimator {font-family: monospace;background-color: #f0f8ff;border: 1px dotted black;border-radius: 0.25em;box-sizing: border-box;margin-bottom: 0.5em;}#sk-container-id-1 div.sk-estimator:hover {background-color: #d4ebff;}#sk-container-id-1 div.sk-parallel-item::after {content: \"\";width: 100%;border-bottom: 1px solid gray;flex-grow: 1;}#sk-container-id-1 div.sk-label:hover label.sk-toggleable__label {background-color: #d4ebff;}#sk-container-id-1 div.sk-serial::before {content: \"\";position: absolute;border-left: 1px solid gray;box-sizing: border-box;top: 0;bottom: 0;left: 50%;z-index: 0;}#sk-container-id-1 div.sk-serial {display: flex;flex-direction: column;align-items: center;background-color: white;padding-right: 0.2em;padding-left: 0.2em;position: relative;}#sk-container-id-1 div.sk-item {position: relative;z-index: 1;}#sk-container-id-1 div.sk-parallel {display: flex;align-items: stretch;justify-content: center;background-color: white;position: relative;}#sk-container-id-1 div.sk-item::before, #sk-container-id-1 div.sk-parallel-item::before {content: \"\";position: absolute;border-left: 1px solid gray;box-sizing: border-box;top: 0;bottom: 0;left: 50%;z-index: -1;}#sk-container-id-1 div.sk-parallel-item {display: flex;flex-direction: column;z-index: 1;position: relative;background-color: white;}#sk-container-id-1 div.sk-parallel-item:first-child::after {align-self: flex-end;width: 50%;}#sk-container-id-1 div.sk-parallel-item:last-child::after {align-self: flex-start;width: 50%;}#sk-container-id-1 div.sk-parallel-item:only-child::after {width: 0;}#sk-container-id-1 div.sk-dashed-wrapped {border: 1px dashed gray;margin: 0 0.4em 0.5em 0.4em;box-sizing: border-box;padding-bottom: 0.4em;background-color: white;}#sk-container-id-1 div.sk-label label {font-family: monospace;font-weight: bold;display: inline-block;line-height: 1.2em;}#sk-container-id-1 div.sk-label-container {text-align: center;}#sk-container-id-1 div.sk-container {/* jupyter's `normalize.less` sets `[hidden] { display: none; }` but bootstrap.min.css set `[hidden] { display: none !important; }` so we also need the `!important` here to be able to override the default hidden behavior on the sphinx rendered scikit-learn.org. See: https://github.com/scikit-learn/scikit-learn/issues/21755 */display: inline-block !important;position: relative;}#sk-container-id-1 div.sk-text-repr-fallback {display: none;}</style><div id=\"sk-container-id-1\" class=\"sk-top-container\"><div class=\"sk-text-repr-fallback\"><pre>RandomForestClassifier(min_samples_split=0.01, n_estimators=50, n_jobs=2,\n",
       "                       random_state=20170428)</pre><b>In a Jupyter environment, please rerun this cell to show the HTML representation or trust the notebook. <br />On GitHub, the HTML representation is unable to render, please try loading this page with nbviewer.org.</b></div><div class=\"sk-container\" hidden><div class=\"sk-item\"><div class=\"sk-estimator sk-toggleable\"><input class=\"sk-toggleable__control sk-hidden--visually\" id=\"sk-estimator-id-1\" type=\"checkbox\" checked><label for=\"sk-estimator-id-1\" class=\"sk-toggleable__label sk-toggleable__label-arrow\">RandomForestClassifier</label><div class=\"sk-toggleable__content\"><pre>RandomForestClassifier(min_samples_split=0.01, n_estimators=50, n_jobs=2,\n",
       "                       random_state=20170428)</pre></div></div></div></div></div>"
      ],
      "text/plain": [
       "RandomForestClassifier(min_samples_split=0.01, n_estimators=50, n_jobs=2,\n",
       "                       random_state=20170428)"
      ]
     },
     "execution_count": 6,
     "metadata": {},
     "output_type": "execute_result"
    }
   ],
   "source": [
    "model = pickle.loads(modelpkl)\n",
    "model"
   ]
  },
  {
   "cell_type": "code",
   "execution_count": 7,
   "id": "2edbc435-4886-4a2b-b44d-14a222f6807a",
   "metadata": {},
   "outputs": [
    {
     "name": "stdout",
     "output_type": "stream",
     "text": [
      "'https://remote.dvc.org/get-started/files/md5/66/4cf1568870c9984e0836092587aa87'\n"
     ]
    }
   ],
   "source": [
    "resource_url = dvc.api.get_url(\n",
    "    path='model.pkl',\n",
    "    repo='https://github.com/iterative/example-get-started',\n",
    "    rev='text-classification@v1.2.0'\n",
    ")\n",
    "pprint(resource_url)"
   ]
  },
  {
   "cell_type": "code",
   "execution_count": 8,
   "id": "477ed27b-6c17-4c44-a9c4-4476a44ff9c1",
   "metadata": {},
   "outputs": [
    {
     "name": "stdout",
     "output_type": "stream",
     "text": [
      "{'featurize': {'max_features': 200, 'ngrams': 2},\n",
      " 'prepare': {'seed': 20170428, 'split': 0.2},\n",
      " 'train': {'min_split': 0.01, 'n_est': 50, 'seed': 20170428}}\n"
     ]
    }
   ],
   "source": [
    "params = dvc.api.params_show(\n",
    "    repo='https://github.com/iterative/example-get-started',\n",
    "    rev='text-classification@v1.2.0'\n",
    ")\n",
    "pprint(params)"
   ]
  },
  {
   "cell_type": "code",
   "execution_count": 9,
   "id": "e7bc6ac4-77f8-459f-a21f-fc82358285c4",
   "metadata": {},
   "outputs": [
    {
     "name": "stdout",
     "output_type": "stream",
     "text": [
      "{'avg_prec': {'test': 0.9249974999612706, 'train': 0.9743681430252835},\n",
      " 'roc_auc': {'test': 0.9460213440787918, 'train': 0.9866678562450621}}\n"
     ]
    }
   ],
   "source": [
    "metrics = dvc.api.metrics_show(\n",
    "    repo='https://github.com/iterative/example-get-started',\n",
    "    rev='text-classification@v1.2.0'\n",
    ")\n",
    "pprint(metrics)"
   ]
  },
  {
   "cell_type": "markdown",
   "id": "6995df7b-839d-4932-9a9c-3365c2d78f72",
   "metadata": {},
   "source": [
    "## Log Model on MLMD"
   ]
  },
  {
   "cell_type": "code",
   "execution_count": 10,
   "id": "6be7fb76-cf96-423d-9f19-fe3729404ad9",
   "metadata": {},
   "outputs": [],
   "source": [
    "artifact = metadata_store_pb2.Artifact()\n",
    "artifact.type_id = artifact_type_id\n",
    "artifact.uri = resource_url\n",
    "artifact.name = \"dvc/example-get-started\""
   ]
  },
  {
   "cell_type": "code",
   "execution_count": 11,
   "id": "73d1d805-c566-4ee8-af64-a62c5283941a",
   "metadata": {},
   "outputs": [],
   "source": [
    "for k, v in params.items():\n",
    "    if type(v) == list:\n",
    "        artifact.custom_properties[k].struct_value.get_or_create_list(k).extend(v)\n",
    "    else:\n",
    "        artifact.custom_properties[k].struct_value.update(v)"
   ]
  },
  {
   "cell_type": "code",
   "execution_count": 12,
   "id": "9d5314fc-8243-446e-a92a-1d10f0d20098",
   "metadata": {},
   "outputs": [],
   "source": [
    "for k, v in metrics.items():\n",
    "    if type(v) == list:\n",
    "        artifact.custom_properties[k].struct_value.get_or_create_list(k).extend(v)\n",
    "    else:\n",
    "        artifact.custom_properties[k].struct_value.update(v)"
   ]
  },
  {
   "cell_type": "code",
   "execution_count": 13,
   "id": "3b628378-71a7-4166-8332-cdf26345f80e",
   "metadata": {},
   "outputs": [],
   "source": [
    "# Fixed properties\n",
    "\n",
    "artifact.custom_properties[\"custom_key\"].string_value = \"custom_value\""
   ]
  },
  {
   "cell_type": "code",
   "execution_count": 18,
   "id": "06c6df45-495e-4b53-8346-27ad25d6c00b",
   "metadata": {},
   "outputs": [],
   "source": [
    "[model_artifact_id] = store.put_artifacts([artifact])"
   ]
  },
  {
   "cell_type": "code",
   "execution_count": 19,
   "id": "dc26ba85-22ec-4718-8ad9-97ea9fb97d91",
   "metadata": {},
   "outputs": [
    {
     "name": "stdout",
     "output_type": "stream",
     "text": [
      "id: 1\n",
      "type_id: 10\n",
      "uri: \"https://remote.dvc.org/get-started/files/md5/66/4cf1568870c9984e0836092587aa87\"\n",
      "custom_properties {\n",
      "  key: \"avg_prec\"\n",
      "  value {\n",
      "    struct_value {\n",
      "      fields {\n",
      "        key: \"test\"\n",
      "        value {\n",
      "          number_value: 0.9249974999612706\n",
      "        }\n",
      "      }\n",
      "      fields {\n",
      "        key: \"train\"\n",
      "        value {\n",
      "          number_value: 0.9743681430252835\n",
      "        }\n",
      "      }\n",
      "    }\n",
      "  }\n",
      "}\n",
      "custom_properties {\n",
      "  key: \"custom_key\"\n",
      "  value {\n",
      "    string_value: \"custom_value\"\n",
      "  }\n",
      "}\n",
      "custom_properties {\n",
      "  key: \"featurize\"\n",
      "  value {\n",
      "    struct_value {\n",
      "      fields {\n",
      "        key: \"max_features\"\n",
      "        value {\n",
      "          number_value: 200.0\n",
      "        }\n",
      "      }\n",
      "      fields {\n",
      "        key: \"ngrams\"\n",
      "        value {\n",
      "          number_value: 2.0\n",
      "        }\n",
      "      }\n",
      "    }\n",
      "  }\n",
      "}\n",
      "custom_properties {\n",
      "  key: \"prepare\"\n",
      "  value {\n",
      "    struct_value {\n",
      "      fields {\n",
      "        key: \"seed\"\n",
      "        value {\n",
      "          number_value: 20170428.0\n",
      "        }\n",
      "      }\n",
      "      fields {\n",
      "        key: \"split\"\n",
      "        value {\n",
      "          number_value: 0.2\n",
      "        }\n",
      "      }\n",
      "    }\n",
      "  }\n",
      "}\n",
      "custom_properties {\n",
      "  key: \"roc_auc\"\n",
      "  value {\n",
      "    struct_value {\n",
      "      fields {\n",
      "        key: \"test\"\n",
      "        value {\n",
      "          number_value: 0.9460213440787918\n",
      "        }\n",
      "      }\n",
      "      fields {\n",
      "        key: \"train\"\n",
      "        value {\n",
      "          number_value: 0.9866678562450621\n",
      "        }\n",
      "      }\n",
      "    }\n",
      "  }\n",
      "}\n",
      "custom_properties {\n",
      "  key: \"train\"\n",
      "  value {\n",
      "    struct_value {\n",
      "      fields {\n",
      "        key: \"min_split\"\n",
      "        value {\n",
      "          number_value: 0.01\n",
      "        }\n",
      "      }\n",
      "      fields {\n",
      "        key: \"n_est\"\n",
      "        value {\n",
      "          number_value: 50.0\n",
      "        }\n",
      "      }\n",
      "      fields {\n",
      "        key: \"seed\"\n",
      "        value {\n",
      "          number_value: 20170428.0\n",
      "        }\n",
      "      }\n",
      "    }\n",
      "  }\n",
      "}\n",
      "name: \"dvc/example-get-started\"\n",
      "type: \"dvc.Model\"\n",
      "create_time_since_epoch: 1695112475698\n",
      "last_update_time_since_epoch: 1695112475698\n",
      "\n"
     ]
    }
   ],
   "source": [
    "[my_mlmd_data] = store.get_artifacts_by_id([model_artifact_id])\n",
    "pprint(my_mlmd_data)"
   ]
  },
  {
   "cell_type": "markdown",
   "id": "db617d8e-fc09-4703-8a54-2e6b274a9d7d",
   "metadata": {},
   "source": [
    "## Filtering"
   ]
  },
  {
   "cell_type": "code",
   "execution_count": 28,
   "id": "22f3d6e6-22cc-4374-951c-e755cb88dc33",
   "metadata": {},
   "outputs": [
    {
     "name": "stdout",
     "output_type": "stream",
     "text": [
      "[id: 1\n",
      "type_id: 10\n",
      "uri: \"https://remote.dvc.org/get-started/files/md5/66/4cf1568870c9984e0836092587aa87\"\n",
      "custom_properties {\n",
      "  key: \"avg_prec\"\n",
      "  value {\n",
      "    struct_value {\n",
      "      fields {\n",
      "        key: \"test\"\n",
      "        value {\n",
      "          number_value: 0.9249974999612706\n",
      "        }\n",
      "      }\n",
      "      fields {\n",
      "        key: \"train\"\n",
      "        value {\n",
      "          number_value: 0.9743681430252835\n",
      "        }\n",
      "      }\n",
      "    }\n",
      "  }\n",
      "}\n",
      "custom_properties {\n",
      "  key: \"custom_key\"\n",
      "  value {\n",
      "    string_value: \"custom_value\"\n",
      "  }\n",
      "}\n",
      "custom_properties {\n",
      "  key: \"featurize\"\n",
      "  value {\n",
      "    struct_value {\n",
      "      fields {\n",
      "        key: \"max_features\"\n",
      "        value {\n",
      "          number_value: 200.0\n",
      "        }\n",
      "      }\n",
      "      fields {\n",
      "        key: \"ngrams\"\n",
      "        value {\n",
      "          number_value: 2.0\n",
      "        }\n",
      "      }\n",
      "    }\n",
      "  }\n",
      "}\n",
      "custom_properties {\n",
      "  key: \"prepare\"\n",
      "  value {\n",
      "    struct_value {\n",
      "      fields {\n",
      "        key: \"seed\"\n",
      "        value {\n",
      "          number_value: 20170428.0\n",
      "        }\n",
      "      }\n",
      "      fields {\n",
      "        key: \"split\"\n",
      "        value {\n",
      "          number_value: 0.2\n",
      "        }\n",
      "      }\n",
      "    }\n",
      "  }\n",
      "}\n",
      "custom_properties {\n",
      "  key: \"roc_auc\"\n",
      "  value {\n",
      "    struct_value {\n",
      "      fields {\n",
      "        key: \"test\"\n",
      "        value {\n",
      "          number_value: 0.9460213440787918\n",
      "        }\n",
      "      }\n",
      "      fields {\n",
      "        key: \"train\"\n",
      "        value {\n",
      "          number_value: 0.9866678562450621\n",
      "        }\n",
      "      }\n",
      "    }\n",
      "  }\n",
      "}\n",
      "custom_properties {\n",
      "  key: \"train\"\n",
      "  value {\n",
      "    struct_value {\n",
      "      fields {\n",
      "        key: \"min_split\"\n",
      "        value {\n",
      "          number_value: 0.01\n",
      "        }\n",
      "      }\n",
      "      fields {\n",
      "        key: \"n_est\"\n",
      "        value {\n",
      "          number_value: 50.0\n",
      "        }\n",
      "      }\n",
      "      fields {\n",
      "        key: \"seed\"\n",
      "        value {\n",
      "          number_value: 20170428.0\n",
      "        }\n",
      "      }\n",
      "    }\n",
      "  }\n",
      "}\n",
      "name: \"dvc/example-get-started\"\n",
      "type: \"dvc.Model\"\n",
      "create_time_since_epoch: 1695112475698\n",
      "last_update_time_since_epoch: 1695112475698\n",
      "]\n"
     ]
    }
   ],
   "source": [
    "filter_query = 'type = \"dvc.Model\"'\n",
    "pprint(store.get_artifacts(mlmd.ListOptions(filter_query=(filter_query))))"
   ]
  },
  {
   "cell_type": "code",
   "execution_count": 29,
   "id": "165439fe-0c72-4278-aa64-9e41fd34e305",
   "metadata": {},
   "outputs": [
    {
     "name": "stdout",
     "output_type": "stream",
     "text": [
      "[id: 1\n",
      "type_id: 10\n",
      "uri: \"https://remote.dvc.org/get-started/files/md5/66/4cf1568870c9984e0836092587aa87\"\n",
      "custom_properties {\n",
      "  key: \"avg_prec\"\n",
      "  value {\n",
      "    struct_value {\n",
      "      fields {\n",
      "        key: \"test\"\n",
      "        value {\n",
      "          number_value: 0.9249974999612706\n",
      "        }\n",
      "      }\n",
      "      fields {\n",
      "        key: \"train\"\n",
      "        value {\n",
      "          number_value: 0.9743681430252835\n",
      "        }\n",
      "      }\n",
      "    }\n",
      "  }\n",
      "}\n",
      "custom_properties {\n",
      "  key: \"custom_key\"\n",
      "  value {\n",
      "    string_value: \"custom_value\"\n",
      "  }\n",
      "}\n",
      "custom_properties {\n",
      "  key: \"featurize\"\n",
      "  value {\n",
      "    struct_value {\n",
      "      fields {\n",
      "        key: \"max_features\"\n",
      "        value {\n",
      "          number_value: 200.0\n",
      "        }\n",
      "      }\n",
      "      fields {\n",
      "        key: \"ngrams\"\n",
      "        value {\n",
      "          number_value: 2.0\n",
      "        }\n",
      "      }\n",
      "    }\n",
      "  }\n",
      "}\n",
      "custom_properties {\n",
      "  key: \"prepare\"\n",
      "  value {\n",
      "    struct_value {\n",
      "      fields {\n",
      "        key: \"seed\"\n",
      "        value {\n",
      "          number_value: 20170428.0\n",
      "        }\n",
      "      }\n",
      "      fields {\n",
      "        key: \"split\"\n",
      "        value {\n",
      "          number_value: 0.2\n",
      "        }\n",
      "      }\n",
      "    }\n",
      "  }\n",
      "}\n",
      "custom_properties {\n",
      "  key: \"roc_auc\"\n",
      "  value {\n",
      "    struct_value {\n",
      "      fields {\n",
      "        key: \"test\"\n",
      "        value {\n",
      "          number_value: 0.9460213440787918\n",
      "        }\n",
      "      }\n",
      "      fields {\n",
      "        key: \"train\"\n",
      "        value {\n",
      "          number_value: 0.9866678562450621\n",
      "        }\n",
      "      }\n",
      "    }\n",
      "  }\n",
      "}\n",
      "custom_properties {\n",
      "  key: \"train\"\n",
      "  value {\n",
      "    struct_value {\n",
      "      fields {\n",
      "        key: \"min_split\"\n",
      "        value {\n",
      "          number_value: 0.01\n",
      "        }\n",
      "      }\n",
      "      fields {\n",
      "        key: \"n_est\"\n",
      "        value {\n",
      "          number_value: 50.0\n",
      "        }\n",
      "      }\n",
      "      fields {\n",
      "        key: \"seed\"\n",
      "        value {\n",
      "          number_value: 20170428.0\n",
      "        }\n",
      "      }\n",
      "    }\n",
      "  }\n",
      "}\n",
      "name: \"dvc/example-get-started\"\n",
      "type: \"dvc.Model\"\n",
      "create_time_since_epoch: 1695112475698\n",
      "last_update_time_since_epoch: 1695112475698\n",
      "]\n"
     ]
    }
   ],
   "source": [
    "filter_query = 'custom_properties.custom_key.string_value = \"custom_value\"'\n",
    "pprint(store.get_artifacts(mlmd.ListOptions(filter_query=(filter_query))))"
   ]
  },
  {
   "cell_type": "code",
   "execution_count": 31,
   "id": "01883edc-ee48-46be-89c1-669449b7cc66",
   "metadata": {},
   "outputs": [
    {
     "ename": "InvalidArgumentError",
     "evalue": "Invalid `filter_query`: Unrecognized name: custom_properties [at 1:1]",
     "output_type": "error",
     "traceback": [
      "\u001b[0;31m---------------------------------------------------------------------------\u001b[0m",
      "\u001b[0;31mInvalidArgumentError\u001b[0m                      Traceback (most recent call last)",
      "Cell \u001b[0;32mIn[31], line 2\u001b[0m\n\u001b[1;32m      1\u001b[0m filter_query \u001b[38;5;241m=\u001b[39m \u001b[38;5;124m'\u001b[39m\u001b[38;5;124mcustom_properties.train.struct_value = \u001b[39m\u001b[38;5;124m\"\u001b[39m\u001b[38;5;124mcustom_value\u001b[39m\u001b[38;5;124m\"\u001b[39m\u001b[38;5;124m'\u001b[39m\n\u001b[0;32m----> 2\u001b[0m pprint(\u001b[43mstore\u001b[49m\u001b[38;5;241;43m.\u001b[39;49m\u001b[43mget_artifacts\u001b[49m\u001b[43m(\u001b[49m\u001b[43mmlmd\u001b[49m\u001b[38;5;241;43m.\u001b[39;49m\u001b[43mListOptions\u001b[49m\u001b[43m(\u001b[49m\u001b[43mfilter_query\u001b[49m\u001b[38;5;241;43m=\u001b[39;49m\u001b[43m(\u001b[49m\u001b[43mfilter_query\u001b[49m\u001b[43m)\u001b[49m\u001b[43m)\u001b[49m\u001b[43m)\u001b[49m)\n",
      "File \u001b[0;32m~/miniconda3/envs/dvc-env/lib/python3.10/site-packages/ml_metadata/metadata_store/metadata_store.py:1365\u001b[0m, in \u001b[0;36mMetadataStore.get_artifacts\u001b[0;34m(self, list_options)\u001b[0m\n\u001b[1;32m   1351\u001b[0m \u001b[38;5;250m\u001b[39m\u001b[38;5;124;03m\"\"\"Gets artifacts.\u001b[39;00m\n\u001b[1;32m   1352\u001b[0m \n\u001b[1;32m   1353\u001b[0m \u001b[38;5;124;03mArgs:\u001b[39;00m\n\u001b[0;32m   (...)\u001b[0m\n\u001b[1;32m   1362\u001b[0m \u001b[38;5;124;03m  errors.InvalidArgument: if list_options is invalid.\u001b[39;00m\n\u001b[1;32m   1363\u001b[0m \u001b[38;5;124;03m\"\"\"\u001b[39;00m\n\u001b[1;32m   1364\u001b[0m request \u001b[38;5;241m=\u001b[39m metadata_store_service_pb2\u001b[38;5;241m.\u001b[39mGetArtifactsRequest()\n\u001b[0;32m-> 1365\u001b[0m \u001b[38;5;28;01mreturn\u001b[39;00m \u001b[38;5;28;43mself\u001b[39;49m\u001b[38;5;241;43m.\u001b[39;49m\u001b[43m_call_method_with_list_options\u001b[49m\u001b[43m(\u001b[49m\u001b[38;5;124;43m'\u001b[39;49m\u001b[38;5;124;43mGetArtifacts\u001b[39;49m\u001b[38;5;124;43m'\u001b[39;49m\u001b[43m,\u001b[49m\u001b[43m \u001b[49m\u001b[38;5;124;43m'\u001b[39;49m\u001b[38;5;124;43martifacts\u001b[39;49m\u001b[38;5;124;43m'\u001b[39;49m\u001b[43m,\u001b[49m\n\u001b[1;32m   1366\u001b[0m \u001b[43m                                           \u001b[49m\u001b[43mrequest\u001b[49m\u001b[43m,\u001b[49m\u001b[43m \u001b[49m\u001b[43mlist_options\u001b[49m\u001b[43m)\u001b[49m\n",
      "File \u001b[0;32m~/miniconda3/envs/dvc-env/lib/python3.10/site-packages/ml_metadata/metadata_store/metadata_store.py:1331\u001b[0m, in \u001b[0;36mMetadataStore._call_method_with_list_options\u001b[0;34m(***failed resolving arguments***)\u001b[0m\n\u001b[1;32m   1328\u001b[0m \u001b[38;5;28;01mif\u001b[39;00m return_size \u001b[38;5;129;01mand\u001b[39;00m return_size \u001b[38;5;241m<\u001b[39m MAX_NUM_RESULT:\n\u001b[1;32m   1329\u001b[0m   request\u001b[38;5;241m.\u001b[39moptions\u001b[38;5;241m.\u001b[39mmax_result_size \u001b[38;5;241m=\u001b[39m return_size\n\u001b[0;32m-> 1331\u001b[0m \u001b[38;5;28;43mself\u001b[39;49m\u001b[38;5;241;43m.\u001b[39;49m\u001b[43m_call\u001b[49m\u001b[43m(\u001b[49m\u001b[43mmethod_name\u001b[49m\u001b[43m,\u001b[49m\u001b[43m \u001b[49m\u001b[43mrequest\u001b[49m\u001b[43m,\u001b[49m\u001b[43m \u001b[49m\u001b[43mresponse\u001b[49m\u001b[43m)\u001b[49m\n\u001b[1;32m   1332\u001b[0m entities \u001b[38;5;241m=\u001b[39m \u001b[38;5;28mgetattr\u001b[39m(response, entity_field_name)\n\u001b[1;32m   1333\u001b[0m \u001b[38;5;28;01mfor\u001b[39;00m x \u001b[38;5;129;01min\u001b[39;00m entities:\n",
      "File \u001b[0;32m~/miniconda3/envs/dvc-env/lib/python3.10/site-packages/ml_metadata/metadata_store/metadata_store.py:203\u001b[0m, in \u001b[0;36mMetadataStore._call\u001b[0;34m(***failed resolving arguments***)\u001b[0m\n\u001b[1;32m    201\u001b[0m \u001b[38;5;28;01mwhile\u001b[39;00m \u001b[38;5;28;01mTrue\u001b[39;00m:\n\u001b[1;32m    202\u001b[0m   \u001b[38;5;28;01mtry\u001b[39;00m:\n\u001b[0;32m--> 203\u001b[0m     \u001b[38;5;28;01mreturn\u001b[39;00m \u001b[38;5;28;43mself\u001b[39;49m\u001b[38;5;241;43m.\u001b[39;49m\u001b[43m_call_method\u001b[49m\u001b[43m(\u001b[49m\u001b[43mmethod_name\u001b[49m\u001b[43m,\u001b[49m\u001b[43m \u001b[49m\u001b[43mrequest\u001b[49m\u001b[43m,\u001b[49m\u001b[43m \u001b[49m\u001b[43mresponse\u001b[49m\u001b[43m)\u001b[49m\n\u001b[1;32m    204\u001b[0m   \u001b[38;5;28;01mexcept\u001b[39;00m errors\u001b[38;5;241m.\u001b[39mAbortedError:\n\u001b[1;32m    205\u001b[0m     num_retries \u001b[38;5;241m-\u001b[39m\u001b[38;5;241m=\u001b[39m \u001b[38;5;241m1\u001b[39m\n",
      "File \u001b[0;32m~/miniconda3/envs/dvc-env/lib/python3.10/site-packages/ml_metadata/metadata_store/metadata_store.py:224\u001b[0m, in \u001b[0;36mMetadataStore._call_method\u001b[0;34m(self, method_name, request, response)\u001b[0m\n\u001b[1;32m    222\u001b[0m \u001b[38;5;28;01mif\u001b[39;00m \u001b[38;5;28mself\u001b[39m\u001b[38;5;241m.\u001b[39m_using_db_connection:\n\u001b[1;32m    223\u001b[0m   cc_method \u001b[38;5;241m=\u001b[39m \u001b[38;5;28mgetattr\u001b[39m(metadata_store_serialized, method_name)\n\u001b[0;32m--> 224\u001b[0m   \u001b[38;5;28;43mself\u001b[39;49m\u001b[38;5;241;43m.\u001b[39;49m\u001b[43m_pywrap_cc_call\u001b[49m\u001b[43m(\u001b[49m\u001b[43mcc_method\u001b[49m\u001b[43m,\u001b[49m\u001b[43m \u001b[49m\u001b[43mrequest\u001b[49m\u001b[43m,\u001b[49m\u001b[43m \u001b[49m\u001b[43mresponse\u001b[49m\u001b[43m)\u001b[49m\n\u001b[1;32m    225\u001b[0m \u001b[38;5;28;01melse\u001b[39;00m:\n\u001b[1;32m    226\u001b[0m   grpc_method \u001b[38;5;241m=\u001b[39m \u001b[38;5;28mgetattr\u001b[39m(\u001b[38;5;28mself\u001b[39m\u001b[38;5;241m.\u001b[39m_metadata_store_stub, method_name)\n",
      "File \u001b[0;32m~/miniconda3/envs/dvc-env/lib/python3.10/site-packages/ml_metadata/metadata_store/metadata_store.py:255\u001b[0m, in \u001b[0;36mMetadataStore._pywrap_cc_call\u001b[0;34m(self, method, request, response)\u001b[0m\n\u001b[1;32m    252\u001b[0m [response_str, error_message,\n\u001b[1;32m    253\u001b[0m  status_code] \u001b[38;5;241m=\u001b[39m method(\u001b[38;5;28mself\u001b[39m\u001b[38;5;241m.\u001b[39m_metadata_store, request\u001b[38;5;241m.\u001b[39mSerializeToString())\n\u001b[1;32m    254\u001b[0m \u001b[38;5;28;01mif\u001b[39;00m status_code \u001b[38;5;241m!=\u001b[39m \u001b[38;5;241m0\u001b[39m:\n\u001b[0;32m--> 255\u001b[0m   \u001b[38;5;28;01mraise\u001b[39;00m errors\u001b[38;5;241m.\u001b[39mmake_exception(error_message\u001b[38;5;241m.\u001b[39mdecode(\u001b[38;5;124m'\u001b[39m\u001b[38;5;124mutf-8\u001b[39m\u001b[38;5;124m'\u001b[39m), status_code)\n\u001b[1;32m    256\u001b[0m response\u001b[38;5;241m.\u001b[39mParseFromString(response_str)\n",
      "\u001b[0;31mInvalidArgumentError\u001b[0m: Invalid `filter_query`: Unrecognized name: custom_properties [at 1:1]"
     ]
    }
   ],
   "source": [
    "filter_query = 'custom_properties.train.struct_value.test.number_value > 0.9'\n",
    "pprint(store.get_artifacts(mlmd.ListOptions(filter_query=(filter_query))))"
   ]
  },
  {
   "cell_type": "code",
   "execution_count": null,
   "id": "c74b710b-216e-42f2-b00b-98276f7d915e",
   "metadata": {},
   "outputs": [],
   "source": []
  }
 ],
 "metadata": {
  "kernelspec": {
   "display_name": "Python 3 (ipykernel)",
   "language": "python",
   "name": "python3"
  },
  "language_info": {
   "codemirror_mode": {
    "name": "ipython",
    "version": 3
   },
   "file_extension": ".py",
   "mimetype": "text/x-python",
   "name": "python",
   "nbconvert_exporter": "python",
   "pygments_lexer": "ipython3",
   "version": "3.10.13"
  }
 },
 "nbformat": 4,
 "nbformat_minor": 5
}
