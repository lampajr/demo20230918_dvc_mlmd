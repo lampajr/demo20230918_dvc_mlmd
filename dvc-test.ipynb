{
 "cells": [
  {
   "cell_type": "markdown",
   "id": "28ec47c9-88ea-4ed0-92cf-11d14e560343",
   "metadata": {},
   "source": [
    "## Generic Imports"
   ]
  },
  {
   "cell_type": "code",
   "execution_count": 16,
   "id": "1520269b-6fdb-4a27-a555-403b5dfd8aef",
   "metadata": {},
   "outputs": [],
   "source": [
    "import os\n",
    "from pprint import pprint"
   ]
  },
  {
   "cell_type": "markdown",
   "id": "8922468e-bc27-4b9d-8b36-0ee68529224d",
   "metadata": {},
   "source": [
    "## Setup ML Metadata"
   ]
  },
  {
   "cell_type": "code",
   "execution_count": 1,
   "id": "e6d37214-56e9-4182-bee0-ae52498880c7",
   "metadata": {},
   "outputs": [],
   "source": [
    "from ml_metadata.metadata_store import metadata_store\n",
    "from ml_metadata.proto import metadata_store_pb2"
   ]
  },
  {
   "cell_type": "code",
   "execution_count": 5,
   "id": "04d29104-fc21-48a0-80df-262e27a6da80",
   "metadata": {},
   "outputs": [
    {
     "name": "stdout",
     "output_type": "stream",
     "text": [
      "artifact_type_id was not found in DB, creating...\n",
      "Using 11 for storing artifacts\n"
     ]
    }
   ],
   "source": [
    "connection_config = metadata_store_pb2.ConnectionConfig()\n",
    "connection_config.sqlite.filename_uri = os.path.join(os.getcwd(), \"mlmddb\")\n",
    "connection_config.sqlite.connection_mode = 3\n",
    "store = metadata_store.MetadataStore(connection_config)\n",
    "\n",
    "try: \n",
    "    artifact_type_id = store.get_artifact_type(\"dvc.Model\").id\n",
    "    print(\"artifact_type_id was found in DB\")\n",
    "except metadata_store.errors.NotFoundError:\n",
    "    print(\"artifact_type_id was not found in DB, creating...\")\n",
    "    new_type = metadata_store_pb2.ArtifactType()\n",
    "    new_type.name = \"dvc.Model\"\n",
    "    artifact_type_id = store.put_artifact_type(new_type)\n",
    "\n",
    "print(f\"Using {artifact_type_id} for storing artifacts\")"
   ]
  },
  {
   "cell_type": "markdown",
   "id": "91acb18a-357a-4a47-9334-278a49def6c3",
   "metadata": {},
   "source": [
    "## Load DVC Model"
   ]
  },
  {
   "cell_type": "code",
   "execution_count": 10,
   "id": "fa33ef1d-b859-4f11-af2d-535f3047e480",
   "metadata": {},
   "outputs": [],
   "source": [
    "import dvc.api\n",
    "import pickle"
   ]
  },
  {
   "cell_type": "code",
   "execution_count": 8,
   "id": "2188a3c3-14e3-455a-9585-658aab7389a3",
   "metadata": {},
   "outputs": [],
   "source": [
    "modelpkl = dvc.api.read(\n",
    "    'model.pkl',\n",
    "    repo='https://github.com/iterative/example-get-started',\n",
    "    mode='rb',\n",
    "    rev='text-classification@v1.2.0'\n",
    ")"
   ]
  },
  {
   "cell_type": "code",
   "execution_count": 13,
   "id": "36e10098-6d6f-4a4b-ae71-82095a6059c2",
   "metadata": {},
   "outputs": [
    {
     "data": {
      "text/html": [
       "<style>#sk-container-id-1 {color: black;}#sk-container-id-1 pre{padding: 0;}#sk-container-id-1 div.sk-toggleable {background-color: white;}#sk-container-id-1 label.sk-toggleable__label {cursor: pointer;display: block;width: 100%;margin-bottom: 0;padding: 0.3em;box-sizing: border-box;text-align: center;}#sk-container-id-1 label.sk-toggleable__label-arrow:before {content: \"▸\";float: left;margin-right: 0.25em;color: #696969;}#sk-container-id-1 label.sk-toggleable__label-arrow:hover:before {color: black;}#sk-container-id-1 div.sk-estimator:hover label.sk-toggleable__label-arrow:before {color: black;}#sk-container-id-1 div.sk-toggleable__content {max-height: 0;max-width: 0;overflow: hidden;text-align: left;background-color: #f0f8ff;}#sk-container-id-1 div.sk-toggleable__content pre {margin: 0.2em;color: black;border-radius: 0.25em;background-color: #f0f8ff;}#sk-container-id-1 input.sk-toggleable__control:checked~div.sk-toggleable__content {max-height: 200px;max-width: 100%;overflow: auto;}#sk-container-id-1 input.sk-toggleable__control:checked~label.sk-toggleable__label-arrow:before {content: \"▾\";}#sk-container-id-1 div.sk-estimator input.sk-toggleable__control:checked~label.sk-toggleable__label {background-color: #d4ebff;}#sk-container-id-1 div.sk-label input.sk-toggleable__control:checked~label.sk-toggleable__label {background-color: #d4ebff;}#sk-container-id-1 input.sk-hidden--visually {border: 0;clip: rect(1px 1px 1px 1px);clip: rect(1px, 1px, 1px, 1px);height: 1px;margin: -1px;overflow: hidden;padding: 0;position: absolute;width: 1px;}#sk-container-id-1 div.sk-estimator {font-family: monospace;background-color: #f0f8ff;border: 1px dotted black;border-radius: 0.25em;box-sizing: border-box;margin-bottom: 0.5em;}#sk-container-id-1 div.sk-estimator:hover {background-color: #d4ebff;}#sk-container-id-1 div.sk-parallel-item::after {content: \"\";width: 100%;border-bottom: 1px solid gray;flex-grow: 1;}#sk-container-id-1 div.sk-label:hover label.sk-toggleable__label {background-color: #d4ebff;}#sk-container-id-1 div.sk-serial::before {content: \"\";position: absolute;border-left: 1px solid gray;box-sizing: border-box;top: 0;bottom: 0;left: 50%;z-index: 0;}#sk-container-id-1 div.sk-serial {display: flex;flex-direction: column;align-items: center;background-color: white;padding-right: 0.2em;padding-left: 0.2em;position: relative;}#sk-container-id-1 div.sk-item {position: relative;z-index: 1;}#sk-container-id-1 div.sk-parallel {display: flex;align-items: stretch;justify-content: center;background-color: white;position: relative;}#sk-container-id-1 div.sk-item::before, #sk-container-id-1 div.sk-parallel-item::before {content: \"\";position: absolute;border-left: 1px solid gray;box-sizing: border-box;top: 0;bottom: 0;left: 50%;z-index: -1;}#sk-container-id-1 div.sk-parallel-item {display: flex;flex-direction: column;z-index: 1;position: relative;background-color: white;}#sk-container-id-1 div.sk-parallel-item:first-child::after {align-self: flex-end;width: 50%;}#sk-container-id-1 div.sk-parallel-item:last-child::after {align-self: flex-start;width: 50%;}#sk-container-id-1 div.sk-parallel-item:only-child::after {width: 0;}#sk-container-id-1 div.sk-dashed-wrapped {border: 1px dashed gray;margin: 0 0.4em 0.5em 0.4em;box-sizing: border-box;padding-bottom: 0.4em;background-color: white;}#sk-container-id-1 div.sk-label label {font-family: monospace;font-weight: bold;display: inline-block;line-height: 1.2em;}#sk-container-id-1 div.sk-label-container {text-align: center;}#sk-container-id-1 div.sk-container {/* jupyter's `normalize.less` sets `[hidden] { display: none; }` but bootstrap.min.css set `[hidden] { display: none !important; }` so we also need the `!important` here to be able to override the default hidden behavior on the sphinx rendered scikit-learn.org. See: https://github.com/scikit-learn/scikit-learn/issues/21755 */display: inline-block !important;position: relative;}#sk-container-id-1 div.sk-text-repr-fallback {display: none;}</style><div id=\"sk-container-id-1\" class=\"sk-top-container\"><div class=\"sk-text-repr-fallback\"><pre>RandomForestClassifier(min_samples_split=0.01, n_estimators=50, n_jobs=2,\n",
       "                       random_state=20170428)</pre><b>In a Jupyter environment, please rerun this cell to show the HTML representation or trust the notebook. <br />On GitHub, the HTML representation is unable to render, please try loading this page with nbviewer.org.</b></div><div class=\"sk-container\" hidden><div class=\"sk-item\"><div class=\"sk-estimator sk-toggleable\"><input class=\"sk-toggleable__control sk-hidden--visually\" id=\"sk-estimator-id-1\" type=\"checkbox\" checked><label for=\"sk-estimator-id-1\" class=\"sk-toggleable__label sk-toggleable__label-arrow\">RandomForestClassifier</label><div class=\"sk-toggleable__content\"><pre>RandomForestClassifier(min_samples_split=0.01, n_estimators=50, n_jobs=2,\n",
       "                       random_state=20170428)</pre></div></div></div></div></div>"
      ],
      "text/plain": [
       "RandomForestClassifier(min_samples_split=0.01, n_estimators=50, n_jobs=2,\n",
       "                       random_state=20170428)"
      ]
     },
     "execution_count": 13,
     "metadata": {},
     "output_type": "execute_result"
    }
   ],
   "source": [
    "model = pickle.loads(modelpkl)\n",
    "model"
   ]
  },
  {
   "cell_type": "code",
   "execution_count": 24,
   "id": "2edbc435-4886-4a2b-b44d-14a222f6807a",
   "metadata": {},
   "outputs": [
    {
     "name": "stdout",
     "output_type": "stream",
     "text": [
      "'https://remote.dvc.org/get-started/files/md5/66/4cf1568870c9984e0836092587aa87'\n"
     ]
    }
   ],
   "source": [
    "resource_url = dvc.api.get_url(\n",
    "    path='model.pkl',\n",
    "    repo='https://github.com/iterative/example-get-started',\n",
    "    rev='text-classification@v1.2.0'\n",
    ")\n",
    "pprint(resource_url)"
   ]
  },
  {
   "cell_type": "code",
   "execution_count": 18,
   "id": "477ed27b-6c17-4c44-a9c4-4476a44ff9c1",
   "metadata": {},
   "outputs": [
    {
     "name": "stdout",
     "output_type": "stream",
     "text": [
      "{'featurize': {'max_features': 200, 'ngrams': 2},\n",
      " 'prepare': {'seed': 20170428, 'split': 0.2},\n",
      " 'train': {'min_split': 0.01, 'n_est': 50, 'seed': 20170428}}\n"
     ]
    }
   ],
   "source": [
    "params = dvc.api.params_show(\n",
    "    repo='https://github.com/iterative/example-get-started',\n",
    "    rev='text-classification@v1.2.0'\n",
    ")\n",
    "pprint(params)"
   ]
  },
  {
   "cell_type": "code",
   "execution_count": 17,
   "id": "e7bc6ac4-77f8-459f-a21f-fc82358285c4",
   "metadata": {},
   "outputs": [
    {
     "name": "stdout",
     "output_type": "stream",
     "text": [
      "{'avg_prec': {'test': 0.9249974999612706, 'train': 0.9743681430252835},\n",
      " 'roc_auc': {'test': 0.9460213440787918, 'train': 0.9866678562450621}}\n"
     ]
    }
   ],
   "source": [
    "metrics = dvc.api.metrics_show(\n",
    "    repo='https://github.com/iterative/example-get-started',\n",
    "    rev='text-classification@v1.2.0'\n",
    ")\n",
    "pprint(metrics)"
   ]
  },
  {
   "cell_type": "markdown",
   "id": "6995df7b-839d-4932-9a9c-3365c2d78f72",
   "metadata": {},
   "source": [
    "## Log Model on MLMD"
   ]
  },
  {
   "cell_type": "code",
   "execution_count": 25,
   "id": "6be7fb76-cf96-423d-9f19-fe3729404ad9",
   "metadata": {},
   "outputs": [],
   "source": [
    "artifact = metadata_store_pb2.Artifact()\n",
    "artifact.type_id = artifact_type_id\n",
    "artifact.uri = resource_url"
   ]
  },
  {
   "cell_type": "code",
   "execution_count": 26,
   "id": "73d1d805-c566-4ee8-af64-a62c5283941a",
   "metadata": {},
   "outputs": [],
   "source": [
    "for k, v in params.items():\n",
    "    if type(v) == list:\n",
    "        artifact.custom_properties[k].struct_value.get_or_create_list(k).extend(v)\n",
    "    else:\n",
    "        artifact.custom_properties[k].struct_value.update(v)"
   ]
  },
  {
   "cell_type": "code",
   "execution_count": 27,
   "id": "9d5314fc-8243-446e-a92a-1d10f0d20098",
   "metadata": {},
   "outputs": [],
   "source": [
    "for k, v in metrics.items():\n",
    "    if type(v) == list:\n",
    "        artifact.custom_properties[k].struct_value.get_or_create_list(k).extend(v)\n",
    "    else:\n",
    "        artifact.custom_properties[k].struct_value.update(v)"
   ]
  },
  {
   "cell_type": "code",
   "execution_count": 29,
   "id": "06c6df45-495e-4b53-8346-27ad25d6c00b",
   "metadata": {},
   "outputs": [],
   "source": [
    "[model_artifact_id] = store.put_artifacts([artifact])"
   ]
  },
  {
   "cell_type": "code",
   "execution_count": 30,
   "id": "dc26ba85-22ec-4718-8ad9-97ea9fb97d91",
   "metadata": {},
   "outputs": [
    {
     "name": "stdout",
     "output_type": "stream",
     "text": [
      "id: 1\n",
      "type_id: 11\n",
      "uri: \"https://remote.dvc.org/get-started/files/md5/66/4cf1568870c9984e0836092587aa87\"\n",
      "custom_properties {\n",
      "  key: \"avg_prec\"\n",
      "  value {\n",
      "    struct_value {\n",
      "      fields {\n",
      "        key: \"test\"\n",
      "        value {\n",
      "          number_value: 0.9249974999612706\n",
      "        }\n",
      "      }\n",
      "      fields {\n",
      "        key: \"train\"\n",
      "        value {\n",
      "          number_value: 0.9743681430252835\n",
      "        }\n",
      "      }\n",
      "    }\n",
      "  }\n",
      "}\n",
      "custom_properties {\n",
      "  key: \"featurize\"\n",
      "  value {\n",
      "    struct_value {\n",
      "      fields {\n",
      "        key: \"max_features\"\n",
      "        value {\n",
      "          number_value: 200.0\n",
      "        }\n",
      "      }\n",
      "      fields {\n",
      "        key: \"ngrams\"\n",
      "        value {\n",
      "          number_value: 2.0\n",
      "        }\n",
      "      }\n",
      "    }\n",
      "  }\n",
      "}\n",
      "custom_properties {\n",
      "  key: \"prepare\"\n",
      "  value {\n",
      "    struct_value {\n",
      "      fields {\n",
      "        key: \"seed\"\n",
      "        value {\n",
      "          number_value: 20170428.0\n",
      "        }\n",
      "      }\n",
      "      fields {\n",
      "        key: \"split\"\n",
      "        value {\n",
      "          number_value: 0.2\n",
      "        }\n",
      "      }\n",
      "    }\n",
      "  }\n",
      "}\n",
      "custom_properties {\n",
      "  key: \"roc_auc\"\n",
      "  value {\n",
      "    struct_value {\n",
      "      fields {\n",
      "        key: \"test\"\n",
      "        value {\n",
      "          number_value: 0.9460213440787918\n",
      "        }\n",
      "      }\n",
      "      fields {\n",
      "        key: \"train\"\n",
      "        value {\n",
      "          number_value: 0.9866678562450621\n",
      "        }\n",
      "      }\n",
      "    }\n",
      "  }\n",
      "}\n",
      "custom_properties {\n",
      "  key: \"train\"\n",
      "  value {\n",
      "    struct_value {\n",
      "      fields {\n",
      "        key: \"min_split\"\n",
      "        value {\n",
      "          number_value: 0.01\n",
      "        }\n",
      "      }\n",
      "      fields {\n",
      "        key: \"n_est\"\n",
      "        value {\n",
      "          number_value: 50.0\n",
      "        }\n",
      "      }\n",
      "      fields {\n",
      "        key: \"seed\"\n",
      "        value {\n",
      "          number_value: 20170428.0\n",
      "        }\n",
      "      }\n",
      "    }\n",
      "  }\n",
      "}\n",
      "type: \"dvc.Model\"\n",
      "create_time_since_epoch: 1695044698025\n",
      "last_update_time_since_epoch: 1695044698025\n",
      "\n"
     ]
    }
   ],
   "source": [
    "[my_mlmd_data] = store.get_artifacts_by_id([model_artifact_id])\n",
    "pprint(my_mlmd_data)"
   ]
  },
  {
   "cell_type": "code",
   "execution_count": null,
   "id": "69d7df86-57d3-42b2-a6ec-dd8f6a78a994",
   "metadata": {},
   "outputs": [],
   "source": []
  }
 ],
 "metadata": {
  "kernelspec": {
   "display_name": "Python 3 (ipykernel)",
   "language": "python",
   "name": "python3"
  },
  "language_info": {
   "codemirror_mode": {
    "name": "ipython",
    "version": 3
   },
   "file_extension": ".py",
   "mimetype": "text/x-python",
   "name": "python",
   "nbconvert_exporter": "python",
   "pygments_lexer": "ipython3",
   "version": "3.10.13"
  }
 },
 "nbformat": 4,
 "nbformat_minor": 5
}
